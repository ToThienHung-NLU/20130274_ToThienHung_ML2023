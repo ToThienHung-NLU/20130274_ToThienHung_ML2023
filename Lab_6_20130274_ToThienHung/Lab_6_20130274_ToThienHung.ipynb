{
  "nbformat": 4,
  "nbformat_minor": 0,
  "metadata": {
    "colab": {
      "provenance": [],
      "include_colab_link": true
    },
    "kernelspec": {
      "name": "python3",
      "display_name": "Python 3"
    },
    "language_info": {
      "name": "python"
    }
  },
  "cells": [
    {
      "cell_type": "markdown",
      "metadata": {
        "id": "view-in-github",
        "colab_type": "text"
      },
      "source": [
        "<a href=\"https://colab.research.google.com/github/nguyenvanlenh/ML_Labs/blob/main/Lab_6_20130303_NguyenVanLenh.ipynb\" target=\"_parent\"><img src=\"https://colab.research.google.com/assets/colab-badge.svg\" alt=\"Open In Colab\"/></a>"
      ]
    },
    {
      "cell_type": "markdown",
      "source": [
        "# This lab is to deal with classification task using **Random Forests** and **Naïve Bayes** algorithms with/without **Feature Selection**. \n",
        "\n",
        "*   **Deadline: 23:59, 25/03/2023**\n",
        "\n"
      ],
      "metadata": {
        "id": "LMzehe0sy5wr"
      }
    },
    {
      "cell_type": "markdown",
      "source": [
        "# Import libraries"
      ],
      "metadata": {
        "id": "H4nJmxp9zGX4"
      }
    },
    {
      "cell_type": "code",
      "execution_count": 1,
      "metadata": {
        "id": "DoVWQ8AEyc-C"
      },
      "outputs": [],
      "source": [
        "# code\n",
        "from prettytable import PrettyTable\n",
        "from sklearn import datasets\n",
        "from sklearn.model_selection import train_test_split\n",
        "from sklearn import svm\n",
        "from sklearn.metrics import confusion_matrix\n",
        "from sklearn.metrics import accuracy_score\n",
        "from sklearn.metrics import precision_score\n",
        "from sklearn.metrics import recall_score\n",
        "from sklearn.metrics import  f1_score \n",
        "\n",
        "from sklearn.ensemble import RandomForestClassifier\n",
        "\n",
        "import pandas as pd\n"
      ]
    },
    {
      "cell_type": "markdown",
      "source": [
        "#Task 1. \n",
        "Task 1. Compare the performance of selected classification algorithms including **Random forest**, **NaiveBayes**, and **SVM** with **mnist** dataset based on **accuracy, precision, recall, f1** measures according to **without using selection feature** and **using selection feature**.\n",
        "\n"
      ],
      "metadata": {
        "id": "kNv07ARGzOUm"
      }
    },
    {
      "cell_type": "code",
      "source": [
        "# code\n",
        "mnist = datasets.load_digits()\n",
        "X = mnist['data']\n",
        "y = mnist['target']\n",
        "X_train , X_test, y_train, y_test = train_test_split(X,y,test_size=0.3, random_state = 0)\n",
        "\n"
      ],
      "metadata": {
        "id": "sOsg77IBzEyo"
      },
      "execution_count": null,
      "outputs": []
    },
    {
      "cell_type": "code",
      "source": [
        "# SVM\n",
        "rbf = svm.SVC(kernel='rbf')\n",
        "rbf.fit(X_train,y_train)\n",
        "y_pred_rbf = rbf.predict(X_test)\n",
        "accurary_rbf = accuracy_score(y_test,y_pred_rbf);\n",
        "precision_rbf = precision_score(y_test, y_pred_rbf,average='macro')\n",
        "recall_rbf = recall_score(y_test, y_pred_rbf,average='macro')\n",
        "f1_rbf = f1_score(y_test, y_pred_rbf,average='macro')\n",
        "cm_rbf = confusion_matrix(y_test, y_pred_rbf)"
      ],
      "metadata": {
        "id": "IKqO8oJBzDqW"
      },
      "execution_count": null,
      "outputs": []
    },
    {
      "cell_type": "code",
      "source": [
        "# Random Forest\n",
        "rfc=RandomForestClassifier(n_estimators=100)\n",
        "#Train the model using the training sets\n",
        "rfc.fit(X_train,y_train)\n",
        "\n",
        "y_pred_rfc = rfc.predict(X_test)\n",
        "accurary_rfc = accuracy_score(y_test,y_pred_rfc);\n",
        "precision_rfc = precision_score(y_test, y_pred_rfc,average='macro')\n",
        "recall_rfc = recall_score(y_test, y_pred_rfc,average='macro')\n",
        "f1_rfc = f1_score(y_test, y_pred_rfc,average='macro')\n",
        "cm_rfc = confusion_matrix(y_test, y_pred_rfc)"
      ],
      "metadata": {
        "id": "rctFIzNU1h0O"
      },
      "execution_count": null,
      "outputs": []
    },
    {
      "cell_type": "code",
      "source": [
        "# GaussianNB\n",
        "from sklearn.naive_bayes import GaussianNB\n",
        "gaussNB = GaussianNB()\n",
        "gaussNB.fit(X_train, y_train)\n",
        "y_pred_gaussNB = gaussNB.predict(X_test)\n",
        "accurary_gaussNB = accuracy_score(y_test,y_pred_gaussNB);\n",
        "precision_gaussNB = precision_score(y_test, y_pred_gaussNB,average='macro')\n",
        "recall_gaussNB = recall_score(y_test, y_pred_gaussNB,average='macro')\n",
        "f1_gaussNB = f1_score(y_test, y_pred_gaussNB,average='macro')\n",
        "cm_gaussNB = confusion_matrix(y_test, y_pred_gaussNB)"
      ],
      "metadata": {
        "id": "zUaDeUd22hnG"
      },
      "execution_count": null,
      "outputs": []
    },
    {
      "cell_type": "code",
      "source": [
        "# BernoulliNB\n",
        "from sklearn.naive_bayes import BernoulliNB\n",
        "bernoulli = BernoulliNB()\n",
        "bernoulli.fit(X_train, y_train)\n",
        "y_pred_bernoulli = bernoulli.predict(X_test)\n",
        "\n",
        "accurary_bernoulli = accuracy_score(y_test,y_pred_bernoulli);\n",
        "precision_bernoulli = precision_score(y_test, y_pred_bernoulli,average='macro')\n",
        "recall_bernoulli = recall_score(y_test, y_pred_bernoulli,average='macro')\n",
        "f1_bernoulli = f1_score(y_test, y_pred_bernoulli,average='macro')\n",
        "cm_bernoulli = confusion_matrix(y_test, y_pred_bernoulli)"
      ],
      "metadata": {
        "id": "_UuYqUMc2nZW"
      },
      "execution_count": null,
      "outputs": []
    },
    {
      "cell_type": "code",
      "source": [
        "# MultinomialNB\n",
        "from sklearn.naive_bayes import MultinomialNB\n",
        "multiNB = MultinomialNB()\n",
        "multiNB.fit(X_train, y_train)\n",
        "y_pred_multiNB = multiNB.predict(X_test)\n",
        "\n",
        "accurary_multiNB = accuracy_score(y_test,y_pred_multiNB);\n",
        "precision_multiNB = precision_score(y_test, y_pred_multiNB,average='macro')\n",
        "recall_multiNB = recall_score(y_test, y_pred_multiNB,average='macro')\n",
        "f1_multiNB = f1_score(y_test, y_pred_multiNB,average='macro')\n",
        "cm_multiNB = confusion_matrix(y_test, y_pred_multiNB)\n",
        "\n"
      ],
      "metadata": {
        "id": "RLx-dN6T3w0G"
      },
      "execution_count": null,
      "outputs": []
    },
    {
      "cell_type": "code",
      "source": [
        "# ComplementNB\n",
        "from sklearn.naive_bayes import ComplementNB\n",
        "comple = ComplementNB()\n",
        "comple.fit(X_train, y_train)\n",
        "y_pred_comple = comple.predict(X_test)\n",
        "\n",
        "accurary_comple = accuracy_score(y_test,y_pred_comple);\n",
        "precision_comple = precision_score(y_test, y_pred_comple,average='macro')\n",
        "recall_comple = recall_score(y_test, y_pred_comple,average='macro')\n",
        "f1_comple = f1_score(y_test, y_pred_comple,average='macro')\n",
        "cm_comple = confusion_matrix(y_test, y_pred_comple)"
      ],
      "metadata": {
        "id": "fxT4EAWh4JN2"
      },
      "execution_count": null,
      "outputs": []
    },
    {
      "cell_type": "code",
      "source": [
        "t = PrettyTable(['algorithms','accuracy','precision','recall','f1'])\n",
        "\n",
        "t.add_row(['SVM',round(accurary_rbf, 2),round(precision_rbf, 2),round(recall_rbf, 2),round(f1_rbf, 2)])\n",
        "t.add_row(['Random Forest',round(accurary_rfc, 2),round(precision_rfc, 2),round(recall_rfc, 2),round(f1_rfc, 2)])\n",
        "t.add_row(['GaussianNB',round(accurary_gaussNB, 2),round(precision_gaussNB, 2),round(recall_gaussNB, 2),round(f1_gaussNB, 2)])\n",
        "t.add_row(['BernoulliNB',round(accurary_bernoulli, 2),round(precision_bernoulli, 2),round(recall_bernoulli, 2),round(f1_bernoulli, 2)])\n",
        "t.add_row(['MultinomialNB',round(accurary_multiNB, 2),round(precision_multiNB, 2),round(recall_multiNB, 2),round(f1_multiNB, 2)])\n",
        "t.add_row(['ComplementNB',round(accurary_comple, 2),round(precision_comple, 2),round(recall_comple, 2),round(f1_comple, 2)])\n",
        "\n",
        "print(t)\n"
      ],
      "metadata": {
        "colab": {
          "base_uri": "https://localhost:8080/"
        },
        "id": "lQmqU3Zb4Ypl",
        "outputId": "785a69a5-ea93-4b04-e655-96c8025eab7d"
      },
      "execution_count": null,
      "outputs": [
        {
          "output_type": "stream",
          "name": "stdout",
          "text": [
            "+---------------+----------+-----------+--------+------+\n",
            "|   algorithms  | accuracy | precision | recall |  f1  |\n",
            "+---------------+----------+-----------+--------+------+\n",
            "|      SVM      |   0.99   |    0.99   |  0.99  | 0.99 |\n",
            "| Random Forest |   0.98   |    0.98   |  0.98  | 0.98 |\n",
            "|   GaussianNB  |   0.82   |    0.86   |  0.83  | 0.82 |\n",
            "|  BernoulliNB  |   0.84   |    0.84   |  0.84  | 0.84 |\n",
            "| MultinomialNB |   0.91   |    0.92   |  0.91  | 0.91 |\n",
            "|  ComplementNB |   0.77   |    0.8    |  0.78  | 0.75 |\n",
            "+---------------+----------+-----------+--------+------+\n"
          ]
        }
      ]
    },
    {
      "cell_type": "markdown",
      "source": [
        "#Task 2. \n",
        "For given bank dataset (bank.csv) having the following attributes :\n",
        "1.\t**age** (numeric)\n",
        "2.\t**job** : type of job (categorical: 'admin.','blue-collar','entrepreneur','housemaid','management','retired','self-employed','services','student','technician','unemployed','unknown')\n",
        "3.\t**marital** : marital status (categorical: 'divorced','married','single','unknown'; note: 'divorced' means divorced or widowed)\n",
        "4.\t**education** (categorical: 'basic.4y','basic.6y','basic.9y','high.school','illiterate','professional.course','university.degree','unknown')\n",
        "5.\t**default**: has credit in default? (categorical: 'no','yes','unknown')\n",
        "6.\t**housing**: has housing loan? (categorical: 'no','yes','unknown')\n",
        "7.\t**loan**: has personal loan? (categorical: 'no','yes','unknown')\n",
        "8.\t**contact**: contact communication type (categorical: 'cellular','telephone')\n",
        "9.\t**month**: last contact month of year (categorical: 'jan', 'feb', 'mar', ..., 'nov', 'dec')\n",
        "10.\t**day_of_week**: last contact day of the week (categorical: 'mon','tue','wed','thu','fri')\n",
        "11.\t**duration**: last contact duration, in seconds (numeric). Important note: this attribute highly affects the output target (e.g., if duration=0 then y='no'). Yet, the duration is not known before a call is performed. Also, after the end of the call y is obviously known. Thus, this input should only be included for benchmark purposes and should be discarded if the intention is to have a realistic predictive model.\n",
        "12.\t**campaign**: number of contacts performed during this campaign and for this client (numeric, includes last contact)\n",
        "13.\t**pdays**: number of days that passed by after the client was last contacted from a previous campaign (numeric; 999 means client was not previously contacted)\n",
        "14.\t**previous**: number of contacts performed before this campaign and for this client (numeric)\n",
        "15.\t**poutcome**: outcome of the previous marketing campaign (categorical: 'failure','nonexistent','success')\n",
        "Output variable (desired target):\n",
        "16.\t**y**. has the client subscribed a term deposit? (binary: 'yes','no')\n",
        "\n"
      ],
      "metadata": {
        "id": "b52OPWPD2afi"
      }
    },
    {
      "cell_type": "code",
      "source": [
        "# connect Drive\n",
        "from google.colab import drive\n",
        "drive.mount('/content/gdrive')\n",
        "%cd '/content/gdrive/MyDrive/Machine Learning/Lab6'"
      ],
      "metadata": {
        "colab": {
          "base_uri": "https://localhost:8080/"
        },
        "id": "QoJhlWKi6VW2",
        "outputId": "f51b3467-f591-465d-8e25-7d74c571aa84"
      },
      "execution_count": 2,
      "outputs": [
        {
          "output_type": "stream",
          "name": "stdout",
          "text": [
            "Mounted at /content/gdrive\n",
            "/content/gdrive/MyDrive/Machine Learning/Lab6\n"
          ]
        }
      ]
    },
    {
      "cell_type": "code",
      "source": [
        "data = pd.read_csv('bank.csv')\n",
        "# data = data.drop(['job',\t'marital',\t'education',\t'default','housing',\t'loan',\t'contact', 'month',\t'duration', 'poutcome',\t'deposit'], axis=1)\n",
        "y = data['deposit']\n",
        "data.head(10)\n"
      ],
      "metadata": {
        "colab": {
          "base_uri": "https://localhost:8080/",
          "height": 363
        },
        "id": "URy7WSQ86hm-",
        "outputId": "e65cb3a6-4201-40fa-f274-ddc145d167ad"
      },
      "execution_count": 41,
      "outputs": [
        {
          "output_type": "execute_result",
          "data": {
            "text/plain": [
              "   age         job   marital  education default  balance housing loan  \\\n",
              "0   59      admin.   married  secondary      no     2343     yes   no   \n",
              "1   56      admin.   married  secondary      no       45      no   no   \n",
              "2   41  technician   married  secondary      no     1270     yes   no   \n",
              "3   55    services   married  secondary      no     2476     yes   no   \n",
              "4   54      admin.   married   tertiary      no      184      no   no   \n",
              "5   42  management    single   tertiary      no        0     yes  yes   \n",
              "6   56  management   married   tertiary      no      830     yes  yes   \n",
              "7   60     retired  divorced  secondary      no      545     yes   no   \n",
              "8   37  technician   married  secondary      no        1     yes   no   \n",
              "9   28    services    single  secondary      no     5090     yes   no   \n",
              "\n",
              "   contact  day month  duration  campaign  pdays  previous poutcome deposit  \n",
              "0  unknown    5   may      1042         1     -1         0  unknown     yes  \n",
              "1  unknown    5   may      1467         1     -1         0  unknown     yes  \n",
              "2  unknown    5   may      1389         1     -1         0  unknown     yes  \n",
              "3  unknown    5   may       579         1     -1         0  unknown     yes  \n",
              "4  unknown    5   may       673         2     -1         0  unknown     yes  \n",
              "5  unknown    5   may       562         2     -1         0  unknown     yes  \n",
              "6  unknown    6   may      1201         1     -1         0  unknown     yes  \n",
              "7  unknown    6   may      1030         1     -1         0  unknown     yes  \n",
              "8  unknown    6   may       608         1     -1         0  unknown     yes  \n",
              "9  unknown    6   may      1297         3     -1         0  unknown     yes  "
            ],
            "text/html": [
              "\n",
              "  <div id=\"df-66397d1d-dab9-4fc4-ab9a-ec4a94583c81\">\n",
              "    <div class=\"colab-df-container\">\n",
              "      <div>\n",
              "<style scoped>\n",
              "    .dataframe tbody tr th:only-of-type {\n",
              "        vertical-align: middle;\n",
              "    }\n",
              "\n",
              "    .dataframe tbody tr th {\n",
              "        vertical-align: top;\n",
              "    }\n",
              "\n",
              "    .dataframe thead th {\n",
              "        text-align: right;\n",
              "    }\n",
              "</style>\n",
              "<table border=\"1\" class=\"dataframe\">\n",
              "  <thead>\n",
              "    <tr style=\"text-align: right;\">\n",
              "      <th></th>\n",
              "      <th>age</th>\n",
              "      <th>job</th>\n",
              "      <th>marital</th>\n",
              "      <th>education</th>\n",
              "      <th>default</th>\n",
              "      <th>balance</th>\n",
              "      <th>housing</th>\n",
              "      <th>loan</th>\n",
              "      <th>contact</th>\n",
              "      <th>day</th>\n",
              "      <th>month</th>\n",
              "      <th>duration</th>\n",
              "      <th>campaign</th>\n",
              "      <th>pdays</th>\n",
              "      <th>previous</th>\n",
              "      <th>poutcome</th>\n",
              "      <th>deposit</th>\n",
              "    </tr>\n",
              "  </thead>\n",
              "  <tbody>\n",
              "    <tr>\n",
              "      <th>0</th>\n",
              "      <td>59</td>\n",
              "      <td>admin.</td>\n",
              "      <td>married</td>\n",
              "      <td>secondary</td>\n",
              "      <td>no</td>\n",
              "      <td>2343</td>\n",
              "      <td>yes</td>\n",
              "      <td>no</td>\n",
              "      <td>unknown</td>\n",
              "      <td>5</td>\n",
              "      <td>may</td>\n",
              "      <td>1042</td>\n",
              "      <td>1</td>\n",
              "      <td>-1</td>\n",
              "      <td>0</td>\n",
              "      <td>unknown</td>\n",
              "      <td>yes</td>\n",
              "    </tr>\n",
              "    <tr>\n",
              "      <th>1</th>\n",
              "      <td>56</td>\n",
              "      <td>admin.</td>\n",
              "      <td>married</td>\n",
              "      <td>secondary</td>\n",
              "      <td>no</td>\n",
              "      <td>45</td>\n",
              "      <td>no</td>\n",
              "      <td>no</td>\n",
              "      <td>unknown</td>\n",
              "      <td>5</td>\n",
              "      <td>may</td>\n",
              "      <td>1467</td>\n",
              "      <td>1</td>\n",
              "      <td>-1</td>\n",
              "      <td>0</td>\n",
              "      <td>unknown</td>\n",
              "      <td>yes</td>\n",
              "    </tr>\n",
              "    <tr>\n",
              "      <th>2</th>\n",
              "      <td>41</td>\n",
              "      <td>technician</td>\n",
              "      <td>married</td>\n",
              "      <td>secondary</td>\n",
              "      <td>no</td>\n",
              "      <td>1270</td>\n",
              "      <td>yes</td>\n",
              "      <td>no</td>\n",
              "      <td>unknown</td>\n",
              "      <td>5</td>\n",
              "      <td>may</td>\n",
              "      <td>1389</td>\n",
              "      <td>1</td>\n",
              "      <td>-1</td>\n",
              "      <td>0</td>\n",
              "      <td>unknown</td>\n",
              "      <td>yes</td>\n",
              "    </tr>\n",
              "    <tr>\n",
              "      <th>3</th>\n",
              "      <td>55</td>\n",
              "      <td>services</td>\n",
              "      <td>married</td>\n",
              "      <td>secondary</td>\n",
              "      <td>no</td>\n",
              "      <td>2476</td>\n",
              "      <td>yes</td>\n",
              "      <td>no</td>\n",
              "      <td>unknown</td>\n",
              "      <td>5</td>\n",
              "      <td>may</td>\n",
              "      <td>579</td>\n",
              "      <td>1</td>\n",
              "      <td>-1</td>\n",
              "      <td>0</td>\n",
              "      <td>unknown</td>\n",
              "      <td>yes</td>\n",
              "    </tr>\n",
              "    <tr>\n",
              "      <th>4</th>\n",
              "      <td>54</td>\n",
              "      <td>admin.</td>\n",
              "      <td>married</td>\n",
              "      <td>tertiary</td>\n",
              "      <td>no</td>\n",
              "      <td>184</td>\n",
              "      <td>no</td>\n",
              "      <td>no</td>\n",
              "      <td>unknown</td>\n",
              "      <td>5</td>\n",
              "      <td>may</td>\n",
              "      <td>673</td>\n",
              "      <td>2</td>\n",
              "      <td>-1</td>\n",
              "      <td>0</td>\n",
              "      <td>unknown</td>\n",
              "      <td>yes</td>\n",
              "    </tr>\n",
              "    <tr>\n",
              "      <th>5</th>\n",
              "      <td>42</td>\n",
              "      <td>management</td>\n",
              "      <td>single</td>\n",
              "      <td>tertiary</td>\n",
              "      <td>no</td>\n",
              "      <td>0</td>\n",
              "      <td>yes</td>\n",
              "      <td>yes</td>\n",
              "      <td>unknown</td>\n",
              "      <td>5</td>\n",
              "      <td>may</td>\n",
              "      <td>562</td>\n",
              "      <td>2</td>\n",
              "      <td>-1</td>\n",
              "      <td>0</td>\n",
              "      <td>unknown</td>\n",
              "      <td>yes</td>\n",
              "    </tr>\n",
              "    <tr>\n",
              "      <th>6</th>\n",
              "      <td>56</td>\n",
              "      <td>management</td>\n",
              "      <td>married</td>\n",
              "      <td>tertiary</td>\n",
              "      <td>no</td>\n",
              "      <td>830</td>\n",
              "      <td>yes</td>\n",
              "      <td>yes</td>\n",
              "      <td>unknown</td>\n",
              "      <td>6</td>\n",
              "      <td>may</td>\n",
              "      <td>1201</td>\n",
              "      <td>1</td>\n",
              "      <td>-1</td>\n",
              "      <td>0</td>\n",
              "      <td>unknown</td>\n",
              "      <td>yes</td>\n",
              "    </tr>\n",
              "    <tr>\n",
              "      <th>7</th>\n",
              "      <td>60</td>\n",
              "      <td>retired</td>\n",
              "      <td>divorced</td>\n",
              "      <td>secondary</td>\n",
              "      <td>no</td>\n",
              "      <td>545</td>\n",
              "      <td>yes</td>\n",
              "      <td>no</td>\n",
              "      <td>unknown</td>\n",
              "      <td>6</td>\n",
              "      <td>may</td>\n",
              "      <td>1030</td>\n",
              "      <td>1</td>\n",
              "      <td>-1</td>\n",
              "      <td>0</td>\n",
              "      <td>unknown</td>\n",
              "      <td>yes</td>\n",
              "    </tr>\n",
              "    <tr>\n",
              "      <th>8</th>\n",
              "      <td>37</td>\n",
              "      <td>technician</td>\n",
              "      <td>married</td>\n",
              "      <td>secondary</td>\n",
              "      <td>no</td>\n",
              "      <td>1</td>\n",
              "      <td>yes</td>\n",
              "      <td>no</td>\n",
              "      <td>unknown</td>\n",
              "      <td>6</td>\n",
              "      <td>may</td>\n",
              "      <td>608</td>\n",
              "      <td>1</td>\n",
              "      <td>-1</td>\n",
              "      <td>0</td>\n",
              "      <td>unknown</td>\n",
              "      <td>yes</td>\n",
              "    </tr>\n",
              "    <tr>\n",
              "      <th>9</th>\n",
              "      <td>28</td>\n",
              "      <td>services</td>\n",
              "      <td>single</td>\n",
              "      <td>secondary</td>\n",
              "      <td>no</td>\n",
              "      <td>5090</td>\n",
              "      <td>yes</td>\n",
              "      <td>no</td>\n",
              "      <td>unknown</td>\n",
              "      <td>6</td>\n",
              "      <td>may</td>\n",
              "      <td>1297</td>\n",
              "      <td>3</td>\n",
              "      <td>-1</td>\n",
              "      <td>0</td>\n",
              "      <td>unknown</td>\n",
              "      <td>yes</td>\n",
              "    </tr>\n",
              "  </tbody>\n",
              "</table>\n",
              "</div>\n",
              "      <button class=\"colab-df-convert\" onclick=\"convertToInteractive('df-66397d1d-dab9-4fc4-ab9a-ec4a94583c81')\"\n",
              "              title=\"Convert this dataframe to an interactive table.\"\n",
              "              style=\"display:none;\">\n",
              "        \n",
              "  <svg xmlns=\"http://www.w3.org/2000/svg\" height=\"24px\"viewBox=\"0 0 24 24\"\n",
              "       width=\"24px\">\n",
              "    <path d=\"M0 0h24v24H0V0z\" fill=\"none\"/>\n",
              "    <path d=\"M18.56 5.44l.94 2.06.94-2.06 2.06-.94-2.06-.94-.94-2.06-.94 2.06-2.06.94zm-11 1L8.5 8.5l.94-2.06 2.06-.94-2.06-.94L8.5 2.5l-.94 2.06-2.06.94zm10 10l.94 2.06.94-2.06 2.06-.94-2.06-.94-.94-2.06-.94 2.06-2.06.94z\"/><path d=\"M17.41 7.96l-1.37-1.37c-.4-.4-.92-.59-1.43-.59-.52 0-1.04.2-1.43.59L10.3 9.45l-7.72 7.72c-.78.78-.78 2.05 0 2.83L4 21.41c.39.39.9.59 1.41.59.51 0 1.02-.2 1.41-.59l7.78-7.78 2.81-2.81c.8-.78.8-2.07 0-2.86zM5.41 20L4 18.59l7.72-7.72 1.47 1.35L5.41 20z\"/>\n",
              "  </svg>\n",
              "      </button>\n",
              "      \n",
              "  <style>\n",
              "    .colab-df-container {\n",
              "      display:flex;\n",
              "      flex-wrap:wrap;\n",
              "      gap: 12px;\n",
              "    }\n",
              "\n",
              "    .colab-df-convert {\n",
              "      background-color: #E8F0FE;\n",
              "      border: none;\n",
              "      border-radius: 50%;\n",
              "      cursor: pointer;\n",
              "      display: none;\n",
              "      fill: #1967D2;\n",
              "      height: 32px;\n",
              "      padding: 0 0 0 0;\n",
              "      width: 32px;\n",
              "    }\n",
              "\n",
              "    .colab-df-convert:hover {\n",
              "      background-color: #E2EBFA;\n",
              "      box-shadow: 0px 1px 2px rgba(60, 64, 67, 0.3), 0px 1px 3px 1px rgba(60, 64, 67, 0.15);\n",
              "      fill: #174EA6;\n",
              "    }\n",
              "\n",
              "    [theme=dark] .colab-df-convert {\n",
              "      background-color: #3B4455;\n",
              "      fill: #D2E3FC;\n",
              "    }\n",
              "\n",
              "    [theme=dark] .colab-df-convert:hover {\n",
              "      background-color: #434B5C;\n",
              "      box-shadow: 0px 1px 3px 1px rgba(0, 0, 0, 0.15);\n",
              "      filter: drop-shadow(0px 1px 2px rgba(0, 0, 0, 0.3));\n",
              "      fill: #FFFFFF;\n",
              "    }\n",
              "  </style>\n",
              "\n",
              "      <script>\n",
              "        const buttonEl =\n",
              "          document.querySelector('#df-66397d1d-dab9-4fc4-ab9a-ec4a94583c81 button.colab-df-convert');\n",
              "        buttonEl.style.display =\n",
              "          google.colab.kernel.accessAllowed ? 'block' : 'none';\n",
              "\n",
              "        async function convertToInteractive(key) {\n",
              "          const element = document.querySelector('#df-66397d1d-dab9-4fc4-ab9a-ec4a94583c81');\n",
              "          const dataTable =\n",
              "            await google.colab.kernel.invokeFunction('convertToInteractive',\n",
              "                                                     [key], {});\n",
              "          if (!dataTable) return;\n",
              "\n",
              "          const docLinkHtml = 'Like what you see? Visit the ' +\n",
              "            '<a target=\"_blank\" href=https://colab.research.google.com/notebooks/data_table.ipynb>data table notebook</a>'\n",
              "            + ' to learn more about interactive tables.';\n",
              "          element.innerHTML = '';\n",
              "          dataTable['output_type'] = 'display_data';\n",
              "          await google.colab.output.renderOutput(dataTable, element);\n",
              "          const docLink = document.createElement('div');\n",
              "          docLink.innerHTML = docLinkHtml;\n",
              "          element.appendChild(docLink);\n",
              "        }\n",
              "      </script>\n",
              "    </div>\n",
              "  </div>\n",
              "  "
            ]
          },
          "metadata": {},
          "execution_count": 41
        }
      ]
    },
    {
      "cell_type": "markdown",
      "source": [
        "#3.1. Apply StandardScaler() function to columns that contains numerical data ('age', 'balance', 'day', 'campaign', 'pdays', 'previous')"
      ],
      "metadata": {
        "id": "q89LEvT7dqaZ"
      }
    },
    {
      "cell_type": "code",
      "source": [
        "# Standard Scaler\n",
        "from sklearn.preprocessing import StandardScaler\n",
        "\n",
        "numerical = ['age', 'balance', 'day', 'campaign', 'pdays', 'previous']\n",
        "scaler = StandardScaler()\n",
        "scaler.fit(data[numerical])\n",
        "data[numerical] = scaler.fit_transform(data[numerical])\n",
        "X_n = data[numerical]\n",
        "data[numerical]\n"
      ],
      "metadata": {
        "id": "8vx3mfIidu4P",
        "colab": {
          "base_uri": "https://localhost:8080/",
          "height": 424
        },
        "outputId": "38bf18c9-cf08-463e-b476-85a74d2880b3"
      },
      "execution_count": 42,
      "outputs": [
        {
          "output_type": "execute_result",
          "data": {
            "text/plain": [
              "            age   balance       day  campaign     pdays  previous\n",
              "0      1.491505  0.252525 -1.265746 -0.554168 -0.481184 -0.363260\n",
              "1      1.239676 -0.459974 -1.265746 -0.554168 -0.481184 -0.363260\n",
              "2     -0.019470 -0.080160 -1.265746 -0.554168 -0.481184 -0.363260\n",
              "3      1.155733  0.293762 -1.265746 -0.554168 -0.481184 -0.363260\n",
              "4      1.071790 -0.416876 -1.265746 -0.186785 -0.481184 -0.363260\n",
              "...         ...       ...       ...       ...       ...       ...\n",
              "11157 -0.691015 -0.473616  0.515650 -0.554168 -0.481184 -0.363260\n",
              "11158 -0.187357 -0.246658  0.040612  0.547981 -0.481184 -0.363260\n",
              "11159 -0.774958 -0.464934  0.396891 -0.186785 -0.481184 -0.363260\n",
              "11160  0.148416 -0.473926 -0.909466 -0.186785  1.109571  1.818332\n",
              "11161 -0.607072 -0.473926 -0.790707 -0.554168 -0.481184 -0.363260\n",
              "\n",
              "[11162 rows x 6 columns]"
            ],
            "text/html": [
              "\n",
              "  <div id=\"df-f744109a-7d52-4f3b-97e4-3929f187b7c4\">\n",
              "    <div class=\"colab-df-container\">\n",
              "      <div>\n",
              "<style scoped>\n",
              "    .dataframe tbody tr th:only-of-type {\n",
              "        vertical-align: middle;\n",
              "    }\n",
              "\n",
              "    .dataframe tbody tr th {\n",
              "        vertical-align: top;\n",
              "    }\n",
              "\n",
              "    .dataframe thead th {\n",
              "        text-align: right;\n",
              "    }\n",
              "</style>\n",
              "<table border=\"1\" class=\"dataframe\">\n",
              "  <thead>\n",
              "    <tr style=\"text-align: right;\">\n",
              "      <th></th>\n",
              "      <th>age</th>\n",
              "      <th>balance</th>\n",
              "      <th>day</th>\n",
              "      <th>campaign</th>\n",
              "      <th>pdays</th>\n",
              "      <th>previous</th>\n",
              "    </tr>\n",
              "  </thead>\n",
              "  <tbody>\n",
              "    <tr>\n",
              "      <th>0</th>\n",
              "      <td>1.491505</td>\n",
              "      <td>0.252525</td>\n",
              "      <td>-1.265746</td>\n",
              "      <td>-0.554168</td>\n",
              "      <td>-0.481184</td>\n",
              "      <td>-0.363260</td>\n",
              "    </tr>\n",
              "    <tr>\n",
              "      <th>1</th>\n",
              "      <td>1.239676</td>\n",
              "      <td>-0.459974</td>\n",
              "      <td>-1.265746</td>\n",
              "      <td>-0.554168</td>\n",
              "      <td>-0.481184</td>\n",
              "      <td>-0.363260</td>\n",
              "    </tr>\n",
              "    <tr>\n",
              "      <th>2</th>\n",
              "      <td>-0.019470</td>\n",
              "      <td>-0.080160</td>\n",
              "      <td>-1.265746</td>\n",
              "      <td>-0.554168</td>\n",
              "      <td>-0.481184</td>\n",
              "      <td>-0.363260</td>\n",
              "    </tr>\n",
              "    <tr>\n",
              "      <th>3</th>\n",
              "      <td>1.155733</td>\n",
              "      <td>0.293762</td>\n",
              "      <td>-1.265746</td>\n",
              "      <td>-0.554168</td>\n",
              "      <td>-0.481184</td>\n",
              "      <td>-0.363260</td>\n",
              "    </tr>\n",
              "    <tr>\n",
              "      <th>4</th>\n",
              "      <td>1.071790</td>\n",
              "      <td>-0.416876</td>\n",
              "      <td>-1.265746</td>\n",
              "      <td>-0.186785</td>\n",
              "      <td>-0.481184</td>\n",
              "      <td>-0.363260</td>\n",
              "    </tr>\n",
              "    <tr>\n",
              "      <th>...</th>\n",
              "      <td>...</td>\n",
              "      <td>...</td>\n",
              "      <td>...</td>\n",
              "      <td>...</td>\n",
              "      <td>...</td>\n",
              "      <td>...</td>\n",
              "    </tr>\n",
              "    <tr>\n",
              "      <th>11157</th>\n",
              "      <td>-0.691015</td>\n",
              "      <td>-0.473616</td>\n",
              "      <td>0.515650</td>\n",
              "      <td>-0.554168</td>\n",
              "      <td>-0.481184</td>\n",
              "      <td>-0.363260</td>\n",
              "    </tr>\n",
              "    <tr>\n",
              "      <th>11158</th>\n",
              "      <td>-0.187357</td>\n",
              "      <td>-0.246658</td>\n",
              "      <td>0.040612</td>\n",
              "      <td>0.547981</td>\n",
              "      <td>-0.481184</td>\n",
              "      <td>-0.363260</td>\n",
              "    </tr>\n",
              "    <tr>\n",
              "      <th>11159</th>\n",
              "      <td>-0.774958</td>\n",
              "      <td>-0.464934</td>\n",
              "      <td>0.396891</td>\n",
              "      <td>-0.186785</td>\n",
              "      <td>-0.481184</td>\n",
              "      <td>-0.363260</td>\n",
              "    </tr>\n",
              "    <tr>\n",
              "      <th>11160</th>\n",
              "      <td>0.148416</td>\n",
              "      <td>-0.473926</td>\n",
              "      <td>-0.909466</td>\n",
              "      <td>-0.186785</td>\n",
              "      <td>1.109571</td>\n",
              "      <td>1.818332</td>\n",
              "    </tr>\n",
              "    <tr>\n",
              "      <th>11161</th>\n",
              "      <td>-0.607072</td>\n",
              "      <td>-0.473926</td>\n",
              "      <td>-0.790707</td>\n",
              "      <td>-0.554168</td>\n",
              "      <td>-0.481184</td>\n",
              "      <td>-0.363260</td>\n",
              "    </tr>\n",
              "  </tbody>\n",
              "</table>\n",
              "<p>11162 rows × 6 columns</p>\n",
              "</div>\n",
              "      <button class=\"colab-df-convert\" onclick=\"convertToInteractive('df-f744109a-7d52-4f3b-97e4-3929f187b7c4')\"\n",
              "              title=\"Convert this dataframe to an interactive table.\"\n",
              "              style=\"display:none;\">\n",
              "        \n",
              "  <svg xmlns=\"http://www.w3.org/2000/svg\" height=\"24px\"viewBox=\"0 0 24 24\"\n",
              "       width=\"24px\">\n",
              "    <path d=\"M0 0h24v24H0V0z\" fill=\"none\"/>\n",
              "    <path d=\"M18.56 5.44l.94 2.06.94-2.06 2.06-.94-2.06-.94-.94-2.06-.94 2.06-2.06.94zm-11 1L8.5 8.5l.94-2.06 2.06-.94-2.06-.94L8.5 2.5l-.94 2.06-2.06.94zm10 10l.94 2.06.94-2.06 2.06-.94-2.06-.94-.94-2.06-.94 2.06-2.06.94z\"/><path d=\"M17.41 7.96l-1.37-1.37c-.4-.4-.92-.59-1.43-.59-.52 0-1.04.2-1.43.59L10.3 9.45l-7.72 7.72c-.78.78-.78 2.05 0 2.83L4 21.41c.39.39.9.59 1.41.59.51 0 1.02-.2 1.41-.59l7.78-7.78 2.81-2.81c.8-.78.8-2.07 0-2.86zM5.41 20L4 18.59l7.72-7.72 1.47 1.35L5.41 20z\"/>\n",
              "  </svg>\n",
              "      </button>\n",
              "      \n",
              "  <style>\n",
              "    .colab-df-container {\n",
              "      display:flex;\n",
              "      flex-wrap:wrap;\n",
              "      gap: 12px;\n",
              "    }\n",
              "\n",
              "    .colab-df-convert {\n",
              "      background-color: #E8F0FE;\n",
              "      border: none;\n",
              "      border-radius: 50%;\n",
              "      cursor: pointer;\n",
              "      display: none;\n",
              "      fill: #1967D2;\n",
              "      height: 32px;\n",
              "      padding: 0 0 0 0;\n",
              "      width: 32px;\n",
              "    }\n",
              "\n",
              "    .colab-df-convert:hover {\n",
              "      background-color: #E2EBFA;\n",
              "      box-shadow: 0px 1px 2px rgba(60, 64, 67, 0.3), 0px 1px 3px 1px rgba(60, 64, 67, 0.15);\n",
              "      fill: #174EA6;\n",
              "    }\n",
              "\n",
              "    [theme=dark] .colab-df-convert {\n",
              "      background-color: #3B4455;\n",
              "      fill: #D2E3FC;\n",
              "    }\n",
              "\n",
              "    [theme=dark] .colab-df-convert:hover {\n",
              "      background-color: #434B5C;\n",
              "      box-shadow: 0px 1px 3px 1px rgba(0, 0, 0, 0.15);\n",
              "      filter: drop-shadow(0px 1px 2px rgba(0, 0, 0, 0.3));\n",
              "      fill: #FFFFFF;\n",
              "    }\n",
              "  </style>\n",
              "\n",
              "      <script>\n",
              "        const buttonEl =\n",
              "          document.querySelector('#df-f744109a-7d52-4f3b-97e4-3929f187b7c4 button.colab-df-convert');\n",
              "        buttonEl.style.display =\n",
              "          google.colab.kernel.accessAllowed ? 'block' : 'none';\n",
              "\n",
              "        async function convertToInteractive(key) {\n",
              "          const element = document.querySelector('#df-f744109a-7d52-4f3b-97e4-3929f187b7c4');\n",
              "          const dataTable =\n",
              "            await google.colab.kernel.invokeFunction('convertToInteractive',\n",
              "                                                     [key], {});\n",
              "          if (!dataTable) return;\n",
              "\n",
              "          const docLinkHtml = 'Like what you see? Visit the ' +\n",
              "            '<a target=\"_blank\" href=https://colab.research.google.com/notebooks/data_table.ipynb>data table notebook</a>'\n",
              "            + ' to learn more about interactive tables.';\n",
              "          element.innerHTML = '';\n",
              "          dataTable['output_type'] = 'display_data';\n",
              "          await google.colab.output.renderOutput(dataTable, element);\n",
              "          const docLink = document.createElement('div');\n",
              "          docLink.innerHTML = docLinkHtml;\n",
              "          element.appendChild(docLink);\n",
              "        }\n",
              "      </script>\n",
              "    </div>\n",
              "  </div>\n",
              "  "
            ]
          },
          "metadata": {},
          "execution_count": 42
        }
      ]
    },
    {
      "cell_type": "markdown",
      "source": [
        "#3.2. Apply Encode Categorical Value (OneHotEncoder) to transfrom categorical data to numerical data ('job', 'marital', 'education', 'default', 'housing', 'loan', 'contact', 'month', 'poutcome')"
      ],
      "metadata": {
        "id": "r7acR0TxdvY8"
      }
    },
    {
      "cell_type": "code",
      "source": [
        "from sklearn.preprocessing import OneHotEncoder\n",
        "\n",
        "categorical = ['job', 'marital', 'education', 'default', 'housing', 'loan', 'contact', 'month', 'poutcome']\n",
        "encoder = OneHotEncoder()\n",
        "encoder.fit(data[categorical])\n",
        "encoded = encoder.fit_transform(data[categorical]).toarray()\n",
        "X_c = encoded\n",
        "X_c"
      ],
      "metadata": {
        "id": "egtgBmAtd0um",
        "colab": {
          "base_uri": "https://localhost:8080/"
        },
        "outputId": "f919e3a9-976e-45dd-8c3a-20a5ee61e773"
      },
      "execution_count": 43,
      "outputs": [
        {
          "output_type": "execute_result",
          "data": {
            "text/plain": [
              "array([[1., 0., 0., ..., 0., 0., 1.],\n",
              "       [1., 0., 0., ..., 0., 0., 1.],\n",
              "       [0., 0., 0., ..., 0., 0., 1.],\n",
              "       ...,\n",
              "       [0., 0., 0., ..., 0., 0., 1.],\n",
              "       [0., 0., 0., ..., 0., 0., 0.],\n",
              "       [0., 0., 0., ..., 0., 0., 1.]])"
            ]
          },
          "metadata": {},
          "execution_count": 43
        }
      ]
    },
    {
      "cell_type": "markdown",
      "source": [
        "#3.3. Apply **Decision tree, Random forest, kNN, NaïveBayes** to preproceed dataset in the previous steps. Then compare the obtained results using **accuracy, precision, recall, f1** measures."
      ],
      "metadata": {
        "id": "K2Si6d69d1nh"
      }
    },
    {
      "cell_type": "code",
      "source": [
        "# import\n",
        "from sklearn.neighbors import KNeighborsClassifier\n",
        "from sklearn.tree import DecisionTreeClassifier\n",
        "# Nummeric\n",
        "X_train, X_test, y_train, y_test = train_test_split(X_n,y , test_size=0.3, random_state=0);"
      ],
      "metadata": {
        "id": "y7U0tVLQwdbB"
      },
      "execution_count": 44,
      "outputs": []
    },
    {
      "cell_type": "code",
      "source": [
        "# Decision tree\n",
        "dtc = DecisionTreeClassifier(random_state=42)\n",
        "dtc.fit(X_train, y_train)\n",
        "y_pred_dtree = dtc.predict(X_test)\n",
        "accurary_dtree = accuracy_score(y_test,y_pred_dtree);\n",
        "precision_dtree = precision_score(y_test, y_pred_dtree, average='macro')\n",
        "recall_dtree = recall_score(y_test, y_pred_dtree,average='macro')\n",
        "f1_dtree = f1_score(y_test, y_pred_dtree,average='macro')\n",
        "cm_dtree = confusion_matrix(y_test, y_pred_dtree)\n",
        "print(cm_dtree)"
      ],
      "metadata": {
        "id": "Ouil-cf_d8jW",
        "colab": {
          "base_uri": "https://localhost:8080/"
        },
        "outputId": "7e69325e-88b1-4560-dfab-584b4c16e739"
      },
      "execution_count": 45,
      "outputs": [
        {
          "output_type": "stream",
          "name": "stdout",
          "text": [
            "[[1093  699]\n",
            " [ 678  879]]\n"
          ]
        }
      ]
    },
    {
      "cell_type": "code",
      "source": [
        "# Random Forest\n",
        "rfc=RandomForestClassifier(n_estimators=100)\n",
        "#Train the model using the training sets\n",
        "rfc.fit(X_train,y_train)\n",
        "\n",
        "y_pred_rfc = rfc.predict(X_test)\n",
        "accurary_rfc = accuracy_score(y_test,y_pred_rfc);\n",
        "precision_rfc = precision_score(y_test, y_pred_rfc,average='macro')\n",
        "recall_rfc = recall_score(y_test, y_pred_rfc,average='macro')\n",
        "f1_rfc = f1_score(y_test, y_pred_rfc,average='macro')\n",
        "cm_rfc = confusion_matrix(y_test, y_pred_rfc)\n",
        "print(cm_rfc)"
      ],
      "metadata": {
        "colab": {
          "base_uri": "https://localhost:8080/"
        },
        "id": "LzFZlpZ51ii_",
        "outputId": "1073452e-25ea-4d5a-9f36-3d36ba083918"
      },
      "execution_count": 46,
      "outputs": [
        {
          "output_type": "stream",
          "name": "stdout",
          "text": [
            "[[1286  506]\n",
            " [ 669  888]]\n"
          ]
        }
      ]
    },
    {
      "cell_type": "code",
      "source": [
        "# kNN\n",
        "knn = KNeighborsClassifier(n_neighbors=5)\n",
        "knn.fit(X_train, y_train)\n",
        "y_pred_knn = knn.predict(X_test)\n",
        "accurary_knn = accuracy_score(y_test,y_pred_knn);\n",
        "precision_knn = precision_score(y_test, y_pred_knn, average ='macro')\n",
        "recall_knn = recall_score(y_test, y_pred_knn, average ='macro')\n",
        "f1_knn = f1_score(y_test, y_pred_knn, average ='macro')\n",
        "cm_knn = confusion_matrix(y_test, y_pred_knn)\n",
        "print(cm_knn)"
      ],
      "metadata": {
        "colab": {
          "base_uri": "https://localhost:8080/"
        },
        "id": "ATb8yPJO1wPl",
        "outputId": "6b61290b-1389-402a-f015-09f0c6d7066f"
      },
      "execution_count": 47,
      "outputs": [
        {
          "output_type": "stream",
          "name": "stdout",
          "text": [
            "[[1201  591]\n",
            " [ 700  857]]\n"
          ]
        }
      ]
    },
    {
      "cell_type": "code",
      "source": [
        "# GaussianNB\n",
        "from sklearn.naive_bayes import GaussianNB\n",
        "gaussNB = GaussianNB()\n",
        "gaussNB.fit(X_train, y_train)\n",
        "y_pred_gaussNB = gaussNB.predict(X_test)\n",
        "accurary_gaussNB = accuracy_score(y_test,y_pred_gaussNB);\n",
        "precision_gaussNB = precision_score(y_test, y_pred_gaussNB,average='macro')\n",
        "recall_gaussNB = recall_score(y_test, y_pred_gaussNB,average='macro')\n",
        "f1_gaussNB = f1_score(y_test, y_pred_gaussNB,average='macro')\n",
        "cm_gaussNB = confusion_matrix(y_test, y_pred_gaussNB)"
      ],
      "metadata": {
        "id": "femfgmEM2NYc"
      },
      "execution_count": 48,
      "outputs": []
    },
    {
      "cell_type": "code",
      "source": [
        "# BernoulliNB\n",
        "from sklearn.naive_bayes import BernoulliNB\n",
        "bernoulli = BernoulliNB()\n",
        "bernoulli.fit(X_train, y_train)\n",
        "y_pred_bernoulli = bernoulli.predict(X_test)\n",
        "\n",
        "accurary_bernoulli = accuracy_score(y_test,y_pred_bernoulli);\n",
        "precision_bernoulli = precision_score(y_test, y_pred_bernoulli,average='macro')\n",
        "recall_bernoulli = recall_score(y_test, y_pred_bernoulli,average='macro')\n",
        "f1_bernoulli = f1_score(y_test, y_pred_bernoulli,average='macro')\n",
        "cm_bernoulli = confusion_matrix(y_test, y_pred_bernoulli)"
      ],
      "metadata": {
        "id": "3SYo8S-12S0C"
      },
      "execution_count": 49,
      "outputs": []
    },
    {
      "cell_type": "code",
      "source": [
        "t = PrettyTable(['algorithms','accuracy','precision','recall','f1'])\n",
        "\n",
        "t.add_row(['Decision Tree',round(accurary_dtree, 2),round(precision_dtree, 2),round(recall_dtree, 2),round(f1_dtree, 2)])\n",
        "t.add_row(['Random Forest',round(accurary_rfc, 2),round(precision_rfc, 2),round(recall_rfc, 2),round(f1_rfc, 2)])\n",
        "t.add_row(['GaussianNB',round(accurary_gaussNB, 2),round(precision_gaussNB, 2),round(recall_gaussNB, 2),round(f1_gaussNB, 2)])\n",
        "t.add_row(['BernoulliNB',round(accurary_bernoulli, 2),round(precision_bernoulli, 2),round(recall_bernoulli, 2),round(f1_bernoulli, 2)])\n",
        "print(t)"
      ],
      "metadata": {
        "colab": {
          "base_uri": "https://localhost:8080/"
        },
        "id": "26xr5HWN2jHS",
        "outputId": "f8b6b697-c9c0-4956-a279-93caf8302720"
      },
      "execution_count": 50,
      "outputs": [
        {
          "output_type": "stream",
          "name": "stdout",
          "text": [
            "+---------------+----------+-----------+--------+------+\n",
            "|   algorithms  | accuracy | precision | recall |  f1  |\n",
            "+---------------+----------+-----------+--------+------+\n",
            "| Decision Tree |   0.59   |    0.59   |  0.59  | 0.59 |\n",
            "| Random Forest |   0.65   |    0.65   |  0.64  | 0.64 |\n",
            "|   GaussianNB  |   0.62   |    0.62   |  0.61  | 0.6  |\n",
            "|  BernoulliNB  |   0.62   |    0.62   |  0.6   | 0.59 |\n",
            "+---------------+----------+-----------+--------+------+\n"
          ]
        }
      ]
    },
    {
      "cell_type": "code",
      "source": [
        "\n",
        "# Category to numerical\n",
        "\n",
        "X_train, X_test, y_train, y_test = train_test_split(X_c, y , test_size= 0.3, random_state=0)"
      ],
      "metadata": {
        "id": "8KS_IeOc2mxC"
      },
      "execution_count": 51,
      "outputs": []
    },
    {
      "cell_type": "code",
      "source": [
        "# Decision tree\n",
        "dtc = DecisionTreeClassifier(random_state=42)\n",
        "dtc.fit(X_train, y_train)\n",
        "y_pred_dtree = dtc.predict(X_test)\n",
        "accurary_dtree = accuracy_score(y_test,y_pred_dtree);\n",
        "precision_dtree = precision_score(y_test, y_pred_dtree, average='macro')\n",
        "recall_dtree = recall_score(y_test, y_pred_dtree,average='macro')\n",
        "f1_dtree = f1_score(y_test, y_pred_dtree,average='macro')\n",
        "cm_dtree = confusion_matrix(y_test, y_pred_dtree)\n",
        "print(cm_dtree)"
      ],
      "metadata": {
        "colab": {
          "base_uri": "https://localhost:8080/"
        },
        "id": "MLa6ahjh3vq-",
        "outputId": "8dfc6b51-36c8-45f2-f059-70bb6dfa445f"
      },
      "execution_count": 52,
      "outputs": [
        {
          "output_type": "stream",
          "name": "stdout",
          "text": [
            "[[1351  441]\n",
            " [ 681  876]]\n"
          ]
        }
      ]
    },
    {
      "cell_type": "code",
      "source": [
        "# Random Forest\n",
        "rfc=RandomForestClassifier(n_estimators=100)\n",
        "#Train the model using the training sets\n",
        "rfc.fit(X_train,y_train)\n",
        "\n",
        "y_pred_rfc = rfc.predict(X_test)\n",
        "accurary_rfc = accuracy_score(y_test,y_pred_rfc);\n",
        "precision_rfc = precision_score(y_test, y_pred_rfc,average='macro')\n",
        "recall_rfc = recall_score(y_test, y_pred_rfc,average='macro')\n",
        "f1_rfc = f1_score(y_test, y_pred_rfc,average='macro')\n",
        "cm_rfc = confusion_matrix(y_test, y_pred_rfc)\n",
        "print(cm_rfc)"
      ],
      "metadata": {
        "id": "ekaDsxNX3033"
      },
      "execution_count": null,
      "outputs": []
    },
    {
      "cell_type": "code",
      "source": [
        "# kNN\n",
        "knn = KNeighborsClassifier(n_neighbors=5)\n",
        "knn.fit(X_train, y_train)\n",
        "y_pred_knn = knn.predict(X_test)\n",
        "accurary_knn = accuracy_score(y_test,y_pred_knn);\n",
        "precision_knn = precision_score(y_test, y_pred_knn, average ='macro')\n",
        "recall_knn = recall_score(y_test, y_pred_knn, average ='macro')\n",
        "f1_knn = f1_score(y_test, y_pred_knn, average ='macro')\n",
        "cm_knn = confusion_matrix(y_test, y_pred_knn)\n",
        "print(cm_knn)"
      ],
      "metadata": {
        "colab": {
          "base_uri": "https://localhost:8080/"
        },
        "id": "dKqzYjVH35xN",
        "outputId": "079c36fc-664e-4727-ca2c-7525aea8958c"
      },
      "execution_count": 54,
      "outputs": [
        {
          "output_type": "stream",
          "name": "stdout",
          "text": [
            "[[1278  514]\n",
            " [ 631  926]]\n"
          ]
        }
      ]
    },
    {
      "cell_type": "code",
      "source": [
        "# GaussianNB\n",
        "from sklearn.naive_bayes import GaussianNB\n",
        "gaussNB = GaussianNB()\n",
        "gaussNB.fit(X_train, y_train)\n",
        "y_pred_gaussNB = gaussNB.predict(X_test)\n",
        "accurary_gaussNB = accuracy_score(y_test,y_pred_gaussNB);\n",
        "precision_gaussNB = precision_score(y_test, y_pred_gaussNB,average='macro')\n",
        "recall_gaussNB = recall_score(y_test, y_pred_gaussNB,average='macro')\n",
        "f1_gaussNB = f1_score(y_test, y_pred_gaussNB,average='macro')\n",
        "cm_gaussNB = confusion_matrix(y_test, y_pred_gaussNB)"
      ],
      "metadata": {
        "id": "gf9GxMLL39hX"
      },
      "execution_count": 55,
      "outputs": []
    },
    {
      "cell_type": "code",
      "source": [
        "# BernoulliNB\n",
        "from sklearn.naive_bayes import BernoulliNB\n",
        "bernoulli = BernoulliNB()\n",
        "bernoulli.fit(X_train, y_train)\n",
        "y_pred_bernoulli = bernoulli.predict(X_test)\n",
        "\n",
        "accurary_bernoulli = accuracy_score(y_test,y_pred_bernoulli);\n",
        "precision_bernoulli = precision_score(y_test, y_pred_bernoulli,average='macro')\n",
        "recall_bernoulli = recall_score(y_test, y_pred_bernoulli,average='macro')\n",
        "f1_bernoulli = f1_score(y_test, y_pred_bernoulli,average='macro')\n",
        "cm_bernoulli = confusion_matrix(y_test, y_pred_bernoulli)"
      ],
      "metadata": {
        "id": "OEL8A3T34Aws"
      },
      "execution_count": 56,
      "outputs": []
    },
    {
      "cell_type": "code",
      "source": [
        "# ComplementNB\n",
        "from sklearn.naive_bayes import ComplementNB\n",
        "comple = ComplementNB()\n",
        "comple.fit(X_train, y_train)\n",
        "y_pred_comple = comple.predict(X_test)\n",
        "\n",
        "accurary_comple = accuracy_score(y_test,y_pred_comple);\n",
        "precision_comple = precision_score(y_test, y_pred_comple,average='macro')\n",
        "recall_comple = recall_score(y_test, y_pred_comple,average='macro')\n",
        "f1_comple = f1_score(y_test, y_pred_comple,average='macro')\n",
        "cm_comple = confusion_matrix(y_test, y_pred_comple)"
      ],
      "metadata": {
        "id": "Ees6ya-14E7N"
      },
      "execution_count": 57,
      "outputs": []
    },
    {
      "cell_type": "code",
      "source": [
        "# MultinomialNB\n",
        "from sklearn.naive_bayes import MultinomialNB\n",
        "multiNB = MultinomialNB()\n",
        "multiNB.fit(X_train, y_train)\n",
        "y_pred_multiNB = multiNB.predict(X_test)\n",
        "\n",
        "accurary_multiNB = accuracy_score(y_test,y_pred_multiNB);\n",
        "precision_multiNB = precision_score(y_test, y_pred_multiNB,average='macro')\n",
        "recall_multiNB = recall_score(y_test, y_pred_multiNB,average='macro')\n",
        "f1_multiNB = f1_score(y_test, y_pred_multiNB,average='macro')\n",
        "cm_multiNB = confusion_matrix(y_test, y_pred_multiNB)"
      ],
      "metadata": {
        "id": "ej3ISZMP4Qic"
      },
      "execution_count": 58,
      "outputs": []
    },
    {
      "cell_type": "code",
      "source": [
        "t = PrettyTable(['algorithms','accuracy','precision','recall','f1'])\n",
        "\n",
        "t.add_row(['Decision Tree',round(accurary_dtree, 2),round(precision_dtree, 2),round(recall_dtree, 2),round(f1_dtree, 2)])\n",
        "t.add_row(['Random Forest',round(accurary_rfc, 2),round(precision_rfc, 2),round(recall_rfc, 2),round(f1_rfc, 2)])\n",
        "t.add_row(['GaussianNB',round(accurary_gaussNB, 2),round(precision_gaussNB, 2),round(recall_gaussNB, 2),round(f1_gaussNB, 2)])\n",
        "t.add_row(['BernoulliNB',round(accurary_bernoulli, 2),round(precision_bernoulli, 2),round(recall_bernoulli, 2),round(f1_bernoulli, 2)])\n",
        "t.add_row(['MultinomialNB',round(accurary_multiNB, 2),round(precision_multiNB, 2),round(recall_multiNB, 2),round(f1_multiNB, 2)])\n",
        "t.add_row(['ComplementNB',round(accurary_comple, 2),round(precision_comple, 2),round(recall_comple, 2),round(f1_comple, 2)])\n",
        "\n",
        "print(t)"
      ],
      "metadata": {
        "colab": {
          "base_uri": "https://localhost:8080/"
        },
        "id": "7UHOh-BD4Ths",
        "outputId": "980e137e-b3bc-4dc2-b60f-a3f35ed837e8"
      },
      "execution_count": 59,
      "outputs": [
        {
          "output_type": "stream",
          "name": "stdout",
          "text": [
            "+---------------+----------+-----------+--------+------+\n",
            "|   algorithms  | accuracy | precision | recall |  f1  |\n",
            "+---------------+----------+-----------+--------+------+\n",
            "| Decision Tree |   0.66   |    0.67   |  0.66  | 0.66 |\n",
            "| Random Forest |   0.67   |    0.67   |  0.67  | 0.67 |\n",
            "|   GaussianNB  |   0.69   |    0.71   |  0.68  | 0.67 |\n",
            "|  BernoulliNB  |   0.67   |    0.67   |  0.67  | 0.67 |\n",
            "| MultinomialNB |   0.68   |    0.68   |  0.68  | 0.68 |\n",
            "|  ComplementNB |   0.68   |    0.68   |  0.68  | 0.68 |\n",
            "+---------------+----------+-----------+--------+------+\n"
          ]
        }
      ]
    },
    {
      "cell_type": "markdown",
      "source": [
        "#3.4. Using selection feature to above dataset, then compare the classification results with those in Task 2.3. "
      ],
      "metadata": {
        "id": "SweVRB4meApP"
      }
    },
    {
      "cell_type": "code",
      "source": [
        "#code\n",
        "from sklearn.feature_selection import SelectKBest , chi2\n",
        "\n",
        "data1 = pd.read_csv('bank.csv')\n",
        "X1 = data.drop(columns=['deposit'])\n",
        "y1 = data['deposit']\n",
        "X1 = abs(pd.get_dummies(X1))\n",
        "X_new = SelectKBest(chi2, k=4).fit_transform(X1,y1)\n",
        "print(\"Shape of X_new:\", X_new.shape)\n",
        "\n"
      ],
      "metadata": {
        "id": "seFBhqCSeC7C",
        "colab": {
          "base_uri": "https://localhost:8080/"
        },
        "outputId": "1e84dfe7-002e-457f-a2b3-7b1ffd92e519"
      },
      "execution_count": 39,
      "outputs": [
        {
          "output_type": "stream",
          "name": "stdout",
          "text": [
            "Shape of X_new: (11162, 4)\n"
          ]
        }
      ]
    },
    {
      "cell_type": "code",
      "source": [
        "from sklearn.linear_model import LogisticRegression\n",
        "\n",
        "X_train, X_test, y_train, y_test = train_test_split(X_new,y1, test_size = 0.3, random_state = 0)\n",
        "\n",
        "classifier = LogisticRegression()\n",
        "classifier.fit(X_train, y_train)\n",
        "y_pred_lr = classifier.predict(X_test)\n",
        "accurary_lr = accuracy_score(y_test,y_pred_lr);\n",
        "precision_lr = precision_score(y_test, y_pred_lr , average =\"macro\")\n",
        "recall_lr = recall_score(y_test, y_pred_lr , average =\"macro\")\n",
        "f1_lr = f1_score(y_test, y_pred_lr , average =\"macro\")\n",
        "cm_lr = confusion_matrix(y_test, y_pred_lr)\n",
        "print(cm_lr)\n"
      ],
      "metadata": {
        "colab": {
          "base_uri": "https://localhost:8080/"
        },
        "id": "kXWXQh6UIxel",
        "outputId": "fec7488e-6323-4a83-cadd-eb1b1ebe3804"
      },
      "execution_count": 63,
      "outputs": [
        {
          "output_type": "stream",
          "name": "stdout",
          "text": [
            "[[1471  321]\n",
            " [ 545 1012]]\n"
          ]
        }
      ]
    },
    {
      "cell_type": "code",
      "source": [
        "# numberical\n",
        "t = PrettyTable(['algorithms','accuracy','precision','recall','f1'])\n",
        "\n",
        "t.add_row(['Decision Tree',round(accurary_dtree, 2),round(precision_dtree, 2),round(recall_dtree, 2),round(f1_dtree, 2)])\n",
        "t.add_row(['Random Forest',round(accurary_rfc, 2),round(precision_rfc, 2),round(recall_rfc, 2),round(f1_rfc, 2)])\n",
        "t.add_row(['GaussianNB',round(accurary_gaussNB, 2),round(precision_gaussNB, 2),round(recall_gaussNB, 2),round(f1_gaussNB, 2)])\n",
        "t.add_row(['BernoulliNB',round(accurary_bernoulli, 2),round(precision_bernoulli, 2),round(recall_bernoulli, 2),round(f1_bernoulli, 2)])\n",
        "t.add_row(['Logistic Regression',round(accurary_lr, 2),round(precision_lr, 2),round(recall_lr, 2),round(f1_lr, 2)])\n",
        "print(t)"
      ],
      "metadata": {
        "colab": {
          "base_uri": "https://localhost:8080/"
        },
        "id": "MOPeoVtpLExu",
        "outputId": "18ffe119-7b94-4554-e8f5-460dcd043250"
      },
      "execution_count": 64,
      "outputs": [
        {
          "output_type": "stream",
          "name": "stdout",
          "text": [
            "+---------------------+----------+-----------+--------+------+\n",
            "|      algorithms     | accuracy | precision | recall |  f1  |\n",
            "+---------------------+----------+-----------+--------+------+\n",
            "|    Decision Tree    |   0.66   |    0.67   |  0.66  | 0.66 |\n",
            "|    Random Forest    |   0.67   |    0.67   |  0.67  | 0.67 |\n",
            "|      GaussianNB     |   0.69   |    0.71   |  0.68  | 0.67 |\n",
            "|     BernoulliNB     |   0.67   |    0.67   |  0.67  | 0.67 |\n",
            "| Logistic Regression |   0.74   |    0.74   |  0.74  | 0.74 |\n",
            "+---------------------+----------+-----------+--------+------+\n"
          ]
        }
      ]
    },
    {
      "cell_type": "code",
      "source": [
        "# catogorical\n",
        "t = PrettyTable(['algorithms','accuracy','precision','recall','f1'])\n",
        "\n",
        "t.add_row(['Decision Tree',round(accurary_dtree, 2),round(precision_dtree, 2),round(recall_dtree, 2),round(f1_dtree, 2)])\n",
        "t.add_row(['Random Forest',round(accurary_rfc, 2),round(precision_rfc, 2),round(recall_rfc, 2),round(f1_rfc, 2)])\n",
        "t.add_row(['GaussianNB',round(accurary_gaussNB, 2),round(precision_gaussNB, 2),round(recall_gaussNB, 2),round(f1_gaussNB, 2)])\n",
        "t.add_row(['BernoulliNB',round(accurary_bernoulli, 2),round(precision_bernoulli, 2),round(recall_bernoulli, 2),round(f1_bernoulli, 2)])\n",
        "t.add_row(['MultinomialNB',round(accurary_multiNB, 2),round(precision_multiNB, 2),round(recall_multiNB, 2),round(f1_multiNB, 2)])\n",
        "t.add_row(['ComplementNB',round(accurary_comple, 2),round(precision_comple, 2),round(recall_comple, 2),round(f1_comple, 2)])\n",
        "t.add_row(['Logistic Regression',round(accurary_lr, 2),round(precision_lr, 2),round(recall_lr, 2),round(f1_lr, 2)])\n",
        "\n",
        "\n",
        "print(t)"
      ],
      "metadata": {
        "colab": {
          "base_uri": "https://localhost:8080/"
        },
        "id": "3ros6-wwLdGL",
        "outputId": "95656bcd-7d40-497c-d1a7-ffe556486a76"
      },
      "execution_count": 65,
      "outputs": [
        {
          "output_type": "stream",
          "name": "stdout",
          "text": [
            "+---------------------+----------+-----------+--------+------+\n",
            "|      algorithms     | accuracy | precision | recall |  f1  |\n",
            "+---------------------+----------+-----------+--------+------+\n",
            "|    Decision Tree    |   0.66   |    0.67   |  0.66  | 0.66 |\n",
            "|    Random Forest    |   0.67   |    0.67   |  0.67  | 0.67 |\n",
            "|      GaussianNB     |   0.69   |    0.71   |  0.68  | 0.67 |\n",
            "|     BernoulliNB     |   0.67   |    0.67   |  0.67  | 0.67 |\n",
            "|    MultinomialNB    |   0.68   |    0.68   |  0.68  | 0.68 |\n",
            "|     ComplementNB    |   0.68   |    0.68   |  0.68  | 0.68 |\n",
            "| Logistic Regression |   0.74   |    0.74   |  0.74  | 0.74 |\n",
            "+---------------------+----------+-----------+--------+------+\n"
          ]
        }
      ]
    },
    {
      "cell_type": "markdown",
      "source": [
        "#Task 4. \n",
        "For a given dataset in the Lab #5 (**credit card dataset**), perform feature selection and thencompare the performance of selected classification algorithms (Decision Tree, kNN, Logistic Regression, SVM, Random Forest and NaiveBayes) based on accuracy, precision, recall, f1 measures.\n"
      ],
      "metadata": {
        "id": "Z5pp7_h-aP2u"
      }
    },
    {
      "cell_type": "code",
      "source": [
        "# code"
      ],
      "metadata": {
        "id": "Rw_-8FIf2KxW"
      },
      "execution_count": null,
      "outputs": []
    },
    {
      "cell_type": "markdown",
      "source": [
        "#Finally,\n",
        "Save a copy in your Github. Remember renaming the notebook."
      ],
      "metadata": {
        "id": "Ok7RGkea_b7n"
      }
    }
  ]
}